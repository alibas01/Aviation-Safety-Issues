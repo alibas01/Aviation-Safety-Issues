{
 "cells": [
  {
   "cell_type": "code",
   "execution_count": 1,
   "metadata": {},
   "outputs": [],
   "source": [
    "%matplotlib inline\n",
    "import numpy as np\n",
    "import scipy as sp\n",
    "import matplotlib as mpl\n",
    "import matplotlib.cm as cm\n",
    "import matplotlib.pyplot as plt\n",
    "import pandas as pd\n",
    "import seaborn as sns\n",
    "from six.moves import range\n",
    "\n",
    "# Setup Pandas\n",
    "pd.set_option('display.width', 500)\n",
    "pd.set_option('display.max_columns', 100)\n",
    "pd.set_option('display.notebook_repr_html', True)\n",
    "\n",
    "# Setup Seaborn\n",
    "sns.set_style(\"whitegrid\")\n",
    "sns.set_context(\"poster\")"
   ]
  },
  {
   "cell_type": "code",
   "execution_count": 2,
   "metadata": {},
   "outputs": [],
   "source": [
    " df= pd.read_csv('database/extra/data_NLP.csv', index_col='idx')"
   ]
  },
  {
   "cell_type": "code",
   "execution_count": 3,
   "metadata": {},
   "outputs": [
    {
     "data": {
      "text/plain": [
       "(91669, 3)"
      ]
     },
     "execution_count": 3,
     "metadata": {},
     "output_type": "execute_result"
    }
   ],
   "source": [
    "df.shape"
   ]
  },
  {
   "cell_type": "code",
   "execution_count": 4,
   "metadata": {},
   "outputs": [
    {
     "data": {
      "text/html": [
       "<div>\n",
       "<style scoped>\n",
       "    .dataframe tbody tr th:only-of-type {\n",
       "        vertical-align: middle;\n",
       "    }\n",
       "\n",
       "    .dataframe tbody tr th {\n",
       "        vertical-align: top;\n",
       "    }\n",
       "\n",
       "    .dataframe thead th {\n",
       "        text-align: right;\n",
       "    }\n",
       "</style>\n",
       "<table border=\"1\" class=\"dataframe\">\n",
       "  <thead>\n",
       "    <tr style=\"text-align: right;\">\n",
       "      <th></th>\n",
       "      <th>Pri_Problem</th>\n",
       "      <th>Synopsis</th>\n",
       "      <th>Narrative</th>\n",
       "    </tr>\n",
       "    <tr>\n",
       "      <th>idx</th>\n",
       "      <th></th>\n",
       "      <th></th>\n",
       "      <th></th>\n",
       "    </tr>\n",
       "  </thead>\n",
       "  <tbody>\n",
       "    <tr>\n",
       "      <th>1</th>\n",
       "      <td>Human Factors</td>\n",
       "      <td>SMA PENETRATED TCA ON CLIMB OUT.</td>\n",
       "      <td>THIS WAS MY FIRST DEP FROM BFI ON 31L. MY TURN...</td>\n",
       "    </tr>\n",
       "    <tr>\n",
       "      <th>2</th>\n",
       "      <td>Human Factors</td>\n",
       "      <td>SMT PLT DESCENDED TO ARPT UNDERLYING TCA; ACCU...</td>\n",
       "      <td>A VFR FLT; BEING CONDUCTED UNDER FAR PART 91; ...</td>\n",
       "    </tr>\n",
       "    <tr>\n",
       "      <th>6</th>\n",
       "      <td>Human Factors</td>\n",
       "      <td>LESS THAN STANDARD SEPARATION BETWEEN TWO ACR ...</td>\n",
       "      <td>ACR Y CLIMBING TO FL210 WAS STOPPED AT 160 FOR...</td>\n",
       "    </tr>\n",
       "    <tr>\n",
       "      <th>7</th>\n",
       "      <td>Human Factors</td>\n",
       "      <td>ACR LTT LANDED AT THE WRONG ARPT; DESTINATION ...</td>\n",
       "      <td>SOME TIME HAD PASSED AFTER WE HAD PASSED THE R...</td>\n",
       "    </tr>\n",
       "    <tr>\n",
       "      <th>8</th>\n",
       "      <td>Human Factors</td>\n",
       "      <td>LESS THAN STANDARD SEPARATION BETWEEN FLT OF 2...</td>\n",
       "      <td>ACFT X ON FINAL FOR RWY 30L (FLT OF 2) MISSED ...</td>\n",
       "    </tr>\n",
       "  </tbody>\n",
       "</table>\n",
       "</div>"
      ],
      "text/plain": [
       "       Pri_Problem                                           Synopsis                                          Narrative\n",
       "idx                                                                                                                     \n",
       "1    Human Factors                   SMA PENETRATED TCA ON CLIMB OUT.  THIS WAS MY FIRST DEP FROM BFI ON 31L. MY TURN...\n",
       "2    Human Factors  SMT PLT DESCENDED TO ARPT UNDERLYING TCA; ACCU...  A VFR FLT; BEING CONDUCTED UNDER FAR PART 91; ...\n",
       "6    Human Factors  LESS THAN STANDARD SEPARATION BETWEEN TWO ACR ...  ACR Y CLIMBING TO FL210 WAS STOPPED AT 160 FOR...\n",
       "7    Human Factors  ACR LTT LANDED AT THE WRONG ARPT; DESTINATION ...  SOME TIME HAD PASSED AFTER WE HAD PASSED THE R...\n",
       "8    Human Factors  LESS THAN STANDARD SEPARATION BETWEEN FLT OF 2...  ACFT X ON FINAL FOR RWY 30L (FLT OF 2) MISSED ..."
      ]
     },
     "execution_count": 4,
     "metadata": {},
     "output_type": "execute_result"
    }
   ],
   "source": [
    "df.head()"
   ]
  },
  {
   "cell_type": "code",
   "execution_count": 5,
   "metadata": {},
   "outputs": [
    {
     "data": {
      "text/plain": [
       "array(['Human Factors', 'Ambiguous', 'Weather', 'Airport', 'None',\n",
       "       'ATC Equipment / Nav Facility / Buildings', 'Aircraft',\n",
       "       'Chart Or Publication', 'Company Policy',\n",
       "       'Environment - Non Weather Related', 'Airspace Structure',\n",
       "       'Procedure', 'Manuals', 'Equipment / Tooling', 'Staffing', 'MEL',\n",
       "       'Logbook Entry', 'Incorrect / Not Installed / Unavailable Part'],\n",
       "      dtype=object)"
      ]
     },
     "execution_count": 5,
     "metadata": {},
     "output_type": "execute_result"
    }
   ],
   "source": [
    "df.Pri_Problem.unique()"
   ]
  },
  {
   "cell_type": "code",
   "execution_count": 6,
   "metadata": {},
   "outputs": [],
   "source": [
    "df=df[~(df.Pri_Problem=='None')]"
   ]
  },
  {
   "cell_type": "code",
   "execution_count": 7,
   "metadata": {},
   "outputs": [
    {
     "data": {
      "text/plain": [
       "(88071, 3)"
      ]
     },
     "execution_count": 7,
     "metadata": {},
     "output_type": "execute_result"
    }
   ],
   "source": [
    "df.shape"
   ]
  },
  {
   "cell_type": "code",
   "execution_count": 8,
   "metadata": {},
   "outputs": [],
   "source": [
    "prefix=df.Pri_Problem.unique()"
   ]
  },
  {
   "cell_type": "code",
   "execution_count": 9,
   "metadata": {},
   "outputs": [
    {
     "data": {
      "text/plain": [
       "array(['Human Factors', 'Ambiguous', 'Weather', 'Airport',\n",
       "       'ATC Equipment / Nav Facility / Buildings', 'Aircraft',\n",
       "       'Chart Or Publication', 'Company Policy',\n",
       "       'Environment - Non Weather Related', 'Airspace Structure',\n",
       "       'Procedure', 'Manuals', 'Equipment / Tooling', 'Staffing', 'MEL',\n",
       "       'Logbook Entry', 'Incorrect / Not Installed / Unavailable Part'],\n",
       "      dtype=object)"
      ]
     },
     "execution_count": 9,
     "metadata": {},
     "output_type": "execute_result"
    }
   ],
   "source": [
    "df.Pri_Problem.unique()"
   ]
  },
  {
   "cell_type": "code",
   "execution_count": 10,
   "metadata": {},
   "outputs": [],
   "source": [
    "from sklearn.feature_extraction.text import CountVectorizer\n",
    "\n",
    "def make_xy(df, category, vectorizer=None):     \n",
    "    if vectorizer is None:\n",
    "        vectorizer = CountVectorizer()\n",
    "    X = vectorizer.fit_transform(df.Synopsis)\n",
    "    X = X.tocsc()  \n",
    "    y = (df.Pri_Problem == category).values.astype(np.int)\n",
    "    return X, y"
   ]
  },
  {
   "cell_type": "code",
   "execution_count": 11,
   "metadata": {},
   "outputs": [],
   "source": [
    "df_HF=df.copy()\n",
    "df_ambiguous=df.copy()\n",
    "df_weather=df.copy()\n",
    "df_airport=df.copy()\n",
    "df_atc=df.copy()\n",
    "df_aircraft=df.copy()\n",
    "df_publication=df.copy()\n",
    "df_company=df.copy()\n",
    "df_environment=df.copy()\n",
    "df_airspace=df.copy()"
   ]
  },
  {
   "cell_type": "code",
   "execution_count": 12,
   "metadata": {},
   "outputs": [
    {
     "data": {
      "text/plain": [
       "(<88071x22960 sparse matrix of type '<class 'numpy.int64'>'\n",
       " \twith 1647331 stored elements in Compressed Sparse Column format>,\n",
       " array([1, 1, 1, ..., 0, 0, 0]))"
      ]
     },
     "execution_count": 12,
     "metadata": {},
     "output_type": "execute_result"
    }
   ],
   "source": [
    "make_xy(df_HF, 'Human Factors')"
   ]
  },
  {
   "cell_type": "markdown",
   "metadata": {},
   "source": [
    "# Human Factors - MNB"
   ]
  },
  {
   "cell_type": "code",
   "execution_count": 18,
   "metadata": {},
   "outputs": [
    {
     "name": "stdout",
     "output_type": "stream",
     "text": [
      "Accuracy Scores for the Training set : 0.8058524874693831  and Test Set : 0.79218075845886\n",
      "True\n"
     ]
    }
   ],
   "source": [
    "from sklearn.model_selection import train_test_split\n",
    "from sklearn.naive_bayes import MultinomialNB\n",
    "from sklearn.metrics import accuracy_score\n",
    "\n",
    "X, y = make_xy(df_HF, 'Human Factors')\n",
    "X_train, X_test, y_train, y_test = train_test_split(X, y, test_size=.3, random_state=11)\n",
    "\n",
    "Mul_NB = MultinomialNB()\n",
    "model=Mul_NB.fit(X_train, y_train)\n",
    "\n",
    "TrainingAccuracy = Mul_NB.score(X_train,y_train)\n",
    "\n",
    "y_pred = Mul_NB.predict(X_test)\n",
    "\n",
    "TestAccuracy = accuracy_score(y_test, y_pred)\n",
    "ttacc = Mul_NB.score(X_test,y_test)\n",
    "\n",
    "print('Accuracy Scores for the Training set : {0}  and Test Set : {1}'.format(TrainingAccuracy, \n",
    "                                                                                         TestAccuracy))\n",
    "print(ttacc==TestAccuracy)"
   ]
  },
  {
   "cell_type": "code",
   "execution_count": 19,
   "metadata": {},
   "outputs": [
    {
     "name": "stdout",
     "output_type": "stream",
     "text": [
      "[[ 3947  2239]\n",
      " [ 3252 16984]]\n"
     ]
    }
   ],
   "source": [
    "from sklearn.metrics import confusion_matrix\n",
    "print(confusion_matrix(y_test, y_pred))"
   ]
  },
  {
   "cell_type": "code",
   "execution_count": 20,
   "metadata": {},
   "outputs": [
    {
     "data": {
      "image/png": "[encoded data removed]",
      "text/plain": [
       "<Figure size 432x288 with 1 Axes>"
      ]
     },
     "metadata": {
      "needs_background": "light"
     },
     "output_type": "display_data"
    }
   ],
   "source": [
    "m, n = X.shape\n",
    "sX = X.toarray().sum(axis=0)\n",
    "\n",
    "\n",
    "sY = [np.sum(sX <= x) for x in range(m)]\n",
    "ax = plt.plot(sY[:100])"
   ]
  },
  {
   "cell_type": "code",
   "execution_count": 21,
   "metadata": {},
   "outputs": [],
   "source": [
    "from sklearn.model_selection import KFold\n",
    "def cv_score(df, X, y, scorefunc):\n",
    "    result = 0.\n",
    "    nfold = 5\n",
    "    for train, test in KFold(nfold).split(X): # split data into train/test groups, 5 times\n",
    "        df.fit(X[train], y[train]) # fit the classifier, passed is as clf.\n",
    "        result += scorefunc(df, X[test], y[test]) # evaluate score function on held-out data\n",
    "    return result / nfold # average\n",
    "\n",
    "def log_likelihood(df, x, y):\n",
    "    prob = df.predict_log_proba(x)\n",
    "    not_reason = y == 0\n",
    "    reason = ~not_reason\n",
    "    return prob[not_reason, 0].sum() + prob[reason, 1].sum()"
   ]
  },
  {
   "cell_type": "code",
   "execution_count": 23,
   "metadata": {},
   "outputs": [
    {
     "name": "stdout",
     "output_type": "stream",
     "text": [
      "alpha: 1\n",
      "min_df: 0.0001\n"
     ]
    }
   ],
   "source": [
    "alphas = [.1, 1, 5, 10, 50]\n",
    "min_dfs = [1e-5, 1e-4, 1e-3, 1e-2, 1e-1] # YOUR TURN: put your value of min_df here.\n",
    "\n",
    "#Find the best value for alpha and min_df, and the best classifier\n",
    "best_alpha = None\n",
    "best_min_df = None\n",
    "maxscore=-np.inf\n",
    "for (alpha,min_df) in zip(alphas,min_dfs):        \n",
    "    vectorizer = CountVectorizer(min_df=min_df)       \n",
    "    Xthis, ythis = make_xy(df_HF, 'Human Factors')\n",
    "    Xtrainthis = Xthis[mask]\n",
    "    ytrainthis = ythis[mask]\n",
    "   \n",
    "    mod = MultinomialNB(alpha=alpha)\n",
    "    score = cv_score(mod, Xtrainthis, ytrainthis, log_likelihood)\n",
    "    if score > maxscore:\n",
    "        maxscore = score\n",
    "        best_alpha, best_min_df = alpha, min_df\n",
    "        \n",
    "print(\"alpha: {}\".format(best_alpha))\n",
    "\n",
    "print (\"min_df: {}\".format(best_min_df))"
   ]
  },
  {
   "cell_type": "code",
   "execution_count": 22,
   "metadata": {},
   "outputs": [
    {
     "name": "stderr",
     "output_type": "stream",
     "text": [
      "C:\\ProgramData\\Anaconda3\\lib\\site-packages\\sklearn\\model_selection\\_split.py:2179: FutureWarning: From version 0.21, test_size will always complement train_size unless both are specified.\n",
      "  FutureWarning)\n"
     ]
    }
   ],
   "source": [
    "#from sklearn.model_selection import train_test_split\n",
    "_, itest = train_test_split(range(df_HF.shape[0]), train_size=0.7)\n",
    "mask = np.zeros(df_HF.shape[0], dtype=np.bool)\n",
    "mask[itest] = True"
   ]
  },
  {
   "cell_type": "markdown",
   "metadata": {},
   "source": [
    "# Human Factors - TFIDF"
   ]
  },
  {
   "cell_type": "code",
   "execution_count": 24,
   "metadata": {},
   "outputs": [
    {
     "name": "stdout",
     "output_type": "stream",
     "text": [
      "Accuracy on training data: 0.805852\n",
      "Accuracy on test data:     0.792181\n"
     ]
    }
   ],
   "source": [
    "from sklearn.feature_extraction.text import TfidfVectorizer\n",
    "\n",
    "tfidfvectorizer = TfidfVectorizer(min_df = best_min_df, stop_words = \"english\")\n",
    "vectorizer = CountVectorizer(min_df=best_min_df)\n",
    "x, y = make_xy(df_HF, 'Human Factors', tfidfvectorizer)\n",
    "x_train, x_test, y_train, y_test = train_test_split(X, y, test_size=.3, random_state=11)\n",
    "\n",
    "mod = MultinomialNB(alpha = best_alpha).fit(x_train, y_train)\n",
    "\n",
    "training_accuracy = mod.score(x_train, y_train)\n",
    "test_accuracy = mod.score(x_test, y_test)\n",
    "\n",
    "print(\"Accuracy on training data: {:2f}\".format(training_accuracy))\n",
    "print(\"Accuracy on test data:     {:2f}\".format(test_accuracy))"
   ]
  },
  {
   "cell_type": "markdown",
   "metadata": {},
   "source": [
    "# Ambiguous - MNB"
   ]
  },
  {
   "cell_type": "code",
   "execution_count": 25,
   "metadata": {},
   "outputs": [
    {
     "name": "stdout",
     "output_type": "stream",
     "text": [
      "Accuracy Scores for the Training set : 0.916073253418547  and Test Set : 0.8995155552191356\n",
      "True\n",
      "[[23434  1418]\n",
      " [ 1237   333]]\n"
     ]
    }
   ],
   "source": [
    "X, y = make_xy(df_weather, 'Ambiguous')\n",
    "X_train, X_test, y_train, y_test = train_test_split(X, y, test_size=.3, random_state=11)\n",
    "\n",
    "Mul_NB = MultinomialNB()\n",
    "Mul_NB.fit(X_train, y_train)\n",
    "\n",
    "TrainingAccuracy = Mul_NB.score(X_train,y_train)\n",
    "\n",
    "y_pred = Mul_NB.predict(X_test)\n",
    "\n",
    "TestAccuracy = accuracy_score(y_test, y_pred)\n",
    "ttacc = Mul_NB.score(X_test,y_test)\n",
    "\n",
    "print('Accuracy Scores for the Training set : {0}  and Test Set : {1}'.format(TrainingAccuracy, \n",
    "                                                                                         TestAccuracy))\n",
    "print(ttacc==TestAccuracy)\n",
    "\n",
    "from sklearn.metrics import confusion_matrix\n",
    "print(confusion_matrix(y_test, y_pred))"
   ]
  },
  {
   "cell_type": "code",
   "execution_count": null,
   "metadata": {},
   "outputs": [],
   "source": []
  },
  {
   "cell_type": "markdown",
   "metadata": {},
   "source": [
    "# Weather - MNB"
   ]
  },
  {
   "cell_type": "code",
   "execution_count": 26,
   "metadata": {},
   "outputs": [
    {
     "name": "stdout",
     "output_type": "stream",
     "text": [
      "Accuracy Scores for the Training set : 0.9714026180473325  and Test Set : 0.9678676860192263\n",
      "True\n",
      "[[25167   365]\n",
      " [  484   406]]\n"
     ]
    }
   ],
   "source": [
    "X, y = make_xy(df_ambiguous, 'Weather')\n",
    "X_train, X_test, y_train, y_test = train_test_split(X, y, test_size=.3, random_state=11)\n",
    "\n",
    "Mul_NB = MultinomialNB()\n",
    "Mul_NB.fit(X_train, y_train)\n",
    "\n",
    "TrainingAccuracy = Mul_NB.score(X_train,y_train)\n",
    "\n",
    "y_pred = Mul_NB.predict(X_test)\n",
    "\n",
    "TestAccuracy = accuracy_score(y_test, y_pred)\n",
    "ttacc = Mul_NB.score(X_test,y_test)\n",
    "\n",
    "print('Accuracy Scores for the Training set : {0}  and Test Set : {1}'.format(TrainingAccuracy, \n",
    "                                                                                         TestAccuracy))\n",
    "print(ttacc==TestAccuracy)\n",
    "\n",
    "from sklearn.metrics import confusion_matrix\n",
    "print(confusion_matrix(y_test, y_pred))"
   ]
  },
  {
   "cell_type": "markdown",
   "metadata": {},
   "source": [
    "# Airport - MNB"
   ]
  },
  {
   "cell_type": "code",
   "execution_count": 27,
   "metadata": {},
   "outputs": [
    {
     "name": "stdout",
     "output_type": "stream",
     "text": [
      "Accuracy Scores for the Training set : 0.9906730036172525  and Test Set : 0.9902354098857014\n",
      "True\n",
      "[[26156    50]\n",
      " [  208     8]]\n"
     ]
    }
   ],
   "source": [
    "X, y = make_xy(df_airport, 'Airport')\n",
    "X_train, X_test, y_train, y_test = train_test_split(X, y, test_size=.3, random_state=11)\n",
    "\n",
    "Mul_NB = MultinomialNB()\n",
    "Mul_NB.fit(X_train, y_train)\n",
    "\n",
    "TrainingAccuracy = Mul_NB.score(X_train,y_train)\n",
    "\n",
    "y_pred = Mul_NB.predict(X_test)\n",
    "\n",
    "TestAccuracy = accuracy_score(y_test, y_pred)\n",
    "ttacc = Mul_NB.score(X_test,y_test)\n",
    "\n",
    "print('Accuracy Scores for the Training set : {0}  and Test Set : {1}'.format(TrainingAccuracy, \n",
    "                                                                                         TestAccuracy))\n",
    "print(ttacc==TestAccuracy)\n",
    "\n",
    "from sklearn.metrics import confusion_matrix\n",
    "print(confusion_matrix(y_test, y_pred))"
   ]
  },
  {
   "cell_type": "markdown",
   "metadata": {},
   "source": [
    "# ATC Equipment / Nav Facility / Buildings - MNB"
   ]
  },
  {
   "cell_type": "code",
   "execution_count": 28,
   "metadata": {},
   "outputs": [
    {
     "name": "stdout",
     "output_type": "stream",
     "text": [
      "Accuracy Scores for the Training set : 0.9905756784376064  and Test Set : 0.9892892286730754\n",
      "True\n",
      "[[26090    47]\n",
      " [  236    49]]\n"
     ]
    }
   ],
   "source": [
    "X, y = make_xy(df_atc, 'ATC Equipment / Nav Facility / Buildings')\n",
    "X_train, X_test, y_train, y_test = train_test_split(X, y, test_size=.3, random_state=11)\n",
    "\n",
    "Mul_NB = MultinomialNB()\n",
    "Mul_NB.fit(X_train, y_train)\n",
    "\n",
    "TrainingAccuracy = Mul_NB.score(X_train,y_train)\n",
    "\n",
    "y_pred = Mul_NB.predict(X_test)\n",
    "\n",
    "TestAccuracy = accuracy_score(y_test, y_pred)\n",
    "ttacc = Mul_NB.score(X_test,y_test)\n",
    "\n",
    "print('Accuracy Scores for the Training set : {0}  and Test Set : {1}'.format(TrainingAccuracy, \n",
    "                                                                                         TestAccuracy))\n",
    "print(ttacc==TestAccuracy)\n",
    "\n",
    "from sklearn.metrics import confusion_matrix\n",
    "print(confusion_matrix(y_test, y_pred))"
   ]
  },
  {
   "cell_type": "markdown",
   "metadata": {},
   "source": [
    "# Aircraft - MNB"
   ]
  },
  {
   "cell_type": "code",
   "execution_count": 29,
   "metadata": {},
   "outputs": [
    {
     "name": "stdout",
     "output_type": "stream",
     "text": [
      "Accuracy Scores for the Training set : 0.9830491978783111  and Test Set : 0.9802437362803724\n",
      "True\n",
      "[[25896    97]\n",
      " [  425     4]]\n"
     ]
    }
   ],
   "source": [
    "X, y = make_xy(df_aircraft, 'Aircraft')\n",
    "X_train, X_test, y_train, y_test = train_test_split(X, y, test_size=.3, random_state=11)\n",
    "\n",
    "Mul_NB = MultinomialNB()\n",
    "Mul_NB.fit(X_train, y_train)\n",
    "\n",
    "TrainingAccuracy = Mul_NB.score(X_train,y_train)\n",
    "\n",
    "y_pred = Mul_NB.predict(X_test)\n",
    "\n",
    "TestAccuracy = accuracy_score(y_test, y_pred)\n",
    "ttacc = Mul_NB.score(X_test,y_test)\n",
    "\n",
    "print('Accuracy Scores for the Training set : {0}  and Test Set : {1}'.format(TrainingAccuracy, \n",
    "                                                                                         TestAccuracy))\n",
    "print(ttacc==TestAccuracy)\n",
    "\n",
    "from sklearn.metrics import confusion_matrix\n",
    "print(confusion_matrix(y_test, y_pred))"
   ]
  },
  {
   "cell_type": "markdown",
   "metadata": {},
   "source": [
    "# Chart Or Publication - MNB"
   ]
  },
  {
   "cell_type": "code",
   "execution_count": null,
   "metadata": {},
   "outputs": [],
   "source": [
    "X, y = make_xy(df_publication, 'Chart Or Publication')\n",
    "X_train, X_test, y_train, y_test = train_test_split(X, y, test_size=.3, random_state=11)\n",
    "\n",
    "Mul_NB = MultinomialNB()\n",
    "Mul_NB.fit(X_train, y_train)\n",
    "\n",
    "TrainingAccuracy = Mul_NB.score(X_train,y_train)\n",
    "\n",
    "y_pred = Mul_NB.predict(X_test)\n",
    "\n",
    "TestAccuracy = accuracy_score(y_test, y_pred)\n",
    "ttacc = Mul_NB.score(X_test,y_test)\n",
    "\n",
    "print('Accuracy Scores for the Training set : {0}  and Test Set : {1}'.format(TrainingAccuracy, \n",
    "                                                                                         TestAccuracy))\n",
    "print(ttacc==TestAccuracy)\n",
    "\n",
    "from sklearn.metrics import confusion_matrix\n",
    "print(confusion_matrix(y_test, y_pred))"
   ]
  },
  {
   "cell_type": "markdown",
   "metadata": {},
   "source": [
    "# Company Policy - MNB"
   ]
  },
  {
   "cell_type": "code",
   "execution_count": 36,
   "metadata": {},
   "outputs": [
    {
     "name": "stdout",
     "output_type": "stream",
     "text": [
      "Accuracy Scores for the Training set : 0.9509805511849341  and Test Set : 0.9458784346378019\n",
      "True\n",
      "[[24521  1124]\n",
      " [  306   471]]\n"
     ]
    }
   ],
   "source": [
    "X, y = make_xy(df_company, 'Company Policy')\n",
    "X_train, X_test, y_train, y_test = train_test_split(X, y, test_size=.3, random_state=11)\n",
    "\n",
    "Mul_NB = MultinomialNB()\n",
    "Mul_NB.fit(X_train, y_train)\n",
    "\n",
    "TrainingAccuracy = Mul_NB.score(X_train,y_train)\n",
    "\n",
    "y_pred = Mul_NB.predict(X_test)\n",
    "\n",
    "TestAccuracy = accuracy_score(y_test, y_pred)\n",
    "ttacc = Mul_NB.score(X_test,y_test)\n",
    "\n",
    "print('Accuracy Scores for the Training set : {0}  and Test Set : {1}'.format(TrainingAccuracy, \n",
    "                                                                                         TestAccuracy))\n",
    "print(ttacc==TestAccuracy)\n",
    "\n",
    "from sklearn.metrics import confusion_matrix\n",
    "print(confusion_matrix(y_test, y_pred))"
   ]
  },
  {
   "cell_type": "markdown",
   "metadata": {},
   "source": [
    "# Environment - Non Weather Related - MNB"
   ]
  },
  {
   "cell_type": "code",
   "execution_count": 37,
   "metadata": {},
   "outputs": [
    {
     "name": "stdout",
     "output_type": "stream",
     "text": [
      "Accuracy Scores for the Training set : 0.9936414215964574  and Test Set : 0.9929982590265688\n",
      "True\n",
      "[[26237    22]\n",
      " [  163     0]]\n"
     ]
    }
   ],
   "source": [
    "X, y = make_xy(df_environment, 'Environment - Non Weather Related')\n",
    "X_train, X_test, y_train, y_test = train_test_split(X, y, test_size=.3, random_state=11)\n",
    "\n",
    "Mul_NB = MultinomialNB()\n",
    "Mul_NB.fit(X_train, y_train)\n",
    "\n",
    "TrainingAccuracy = Mul_NB.score(X_train,y_train)\n",
    "\n",
    "y_pred = Mul_NB.predict(X_test)\n",
    "\n",
    "TestAccuracy = accuracy_score(y_test, y_pred)\n",
    "ttacc = Mul_NB.score(X_test,y_test)\n",
    "\n",
    "print('Accuracy Scores for the Training set : {0}  and Test Set : {1}'.format(TrainingAccuracy, \n",
    "                                                                                         TestAccuracy))\n",
    "print(ttacc==TestAccuracy)\n",
    "\n",
    "from sklearn.metrics import confusion_matrix\n",
    "print(confusion_matrix(y_test, y_pred))"
   ]
  },
  {
   "cell_type": "markdown",
   "metadata": {},
   "source": [
    "# Airspace Structure - MNB"
   ]
  },
  {
   "cell_type": "code",
   "execution_count": 38,
   "metadata": {},
   "outputs": [
    {
     "name": "stdout",
     "output_type": "stream",
     "text": [
      "Accuracy Scores for the Training set : 0.989797077000438  and Test Set : 0.9885322837029747\n",
      "True\n",
      "[[26118    40]\n",
      " [  263     1]]\n"
     ]
    }
   ],
   "source": [
    "X, y = make_xy(df_airspace, 'Airspace Structure')\n",
    "X_train, X_test, y_train, y_test = train_test_split(X, y, test_size=.3, random_state=11)\n",
    "\n",
    "Mul_NB = MultinomialNB()\n",
    "Mul_NB.fit(X_train, y_train)\n",
    "\n",
    "TrainingAccuracy = Mul_NB.score(X_train,y_train)\n",
    "\n",
    "y_pred = Mul_NB.predict(X_test)\n",
    "\n",
    "TestAccuracy = accuracy_score(y_test, y_pred)\n",
    "ttacc = Mul_NB.score(X_test,y_test)\n",
    "\n",
    "print('Accuracy Scores for the Training set : {0}  and Test Set : {1}'.format(TrainingAccuracy, \n",
    "                                                                                         TestAccuracy))\n",
    "print(ttacc==TestAccuracy)\n",
    "\n",
    "from sklearn.metrics import confusion_matrix\n",
    "print(confusion_matrix(y_test, y_pred))"
   ]
  },
  {
   "cell_type": "markdown",
   "metadata": {},
   "source": [
    "# TOP 3 Classification"
   ]
  },
  {
   "cell_type": "code",
   "execution_count": 13,
   "metadata": {},
   "outputs": [],
   "source": [
    "top3=['Human Factors', 'Ambiguous','Procedure']\n",
    "df_top3=df[df.Pri_Problem.isin(top3)]"
   ]
  },
  {
   "cell_type": "code",
   "execution_count": 14,
   "metadata": {},
   "outputs": [
    {
     "data": {
      "text/plain": [
       "(76692, 3)"
      ]
     },
     "execution_count": 14,
     "metadata": {},
     "output_type": "execute_result"
    }
   ],
   "source": [
    "df_top3.shape"
   ]
  },
  {
   "cell_type": "code",
   "execution_count": 15,
   "metadata": {},
   "outputs": [
    {
     "data": {
      "text/html": [
       "<div>\n",
       "<style scoped>\n",
       "    .dataframe tbody tr th:only-of-type {\n",
       "        vertical-align: middle;\n",
       "    }\n",
       "\n",
       "    .dataframe tbody tr th {\n",
       "        vertical-align: top;\n",
       "    }\n",
       "\n",
       "    .dataframe thead th {\n",
       "        text-align: right;\n",
       "    }\n",
       "</style>\n",
       "<table border=\"1\" class=\"dataframe\">\n",
       "  <thead>\n",
       "    <tr style=\"text-align: right;\">\n",
       "      <th></th>\n",
       "      <th>Pri_Problem</th>\n",
       "      <th>Synopsis</th>\n",
       "      <th>Narrative</th>\n",
       "    </tr>\n",
       "    <tr>\n",
       "      <th>idx</th>\n",
       "      <th></th>\n",
       "      <th></th>\n",
       "      <th></th>\n",
       "    </tr>\n",
       "  </thead>\n",
       "  <tbody>\n",
       "    <tr>\n",
       "      <th>1</th>\n",
       "      <td>Human Factors</td>\n",
       "      <td>SMA PENETRATED TCA ON CLIMB OUT.</td>\n",
       "      <td>THIS WAS MY FIRST DEP FROM BFI ON 31L. MY TURN...</td>\n",
       "    </tr>\n",
       "    <tr>\n",
       "      <th>2</th>\n",
       "      <td>Human Factors</td>\n",
       "      <td>SMT PLT DESCENDED TO ARPT UNDERLYING TCA; ACCU...</td>\n",
       "      <td>A VFR FLT; BEING CONDUCTED UNDER FAR PART 91; ...</td>\n",
       "    </tr>\n",
       "    <tr>\n",
       "      <th>6</th>\n",
       "      <td>Human Factors</td>\n",
       "      <td>LESS THAN STANDARD SEPARATION BETWEEN TWO ACR ...</td>\n",
       "      <td>ACR Y CLIMBING TO FL210 WAS STOPPED AT 160 FOR...</td>\n",
       "    </tr>\n",
       "    <tr>\n",
       "      <th>7</th>\n",
       "      <td>Human Factors</td>\n",
       "      <td>ACR LTT LANDED AT THE WRONG ARPT; DESTINATION ...</td>\n",
       "      <td>SOME TIME HAD PASSED AFTER WE HAD PASSED THE R...</td>\n",
       "    </tr>\n",
       "    <tr>\n",
       "      <th>8</th>\n",
       "      <td>Human Factors</td>\n",
       "      <td>LESS THAN STANDARD SEPARATION BETWEEN FLT OF 2...</td>\n",
       "      <td>ACFT X ON FINAL FOR RWY 30L (FLT OF 2) MISSED ...</td>\n",
       "    </tr>\n",
       "  </tbody>\n",
       "</table>\n",
       "</div>"
      ],
      "text/plain": [
       "       Pri_Problem                                           Synopsis                                          Narrative\n",
       "idx                                                                                                                     \n",
       "1    Human Factors                   SMA PENETRATED TCA ON CLIMB OUT.  THIS WAS MY FIRST DEP FROM BFI ON 31L. MY TURN...\n",
       "2    Human Factors  SMT PLT DESCENDED TO ARPT UNDERLYING TCA; ACCU...  A VFR FLT; BEING CONDUCTED UNDER FAR PART 91; ...\n",
       "6    Human Factors  LESS THAN STANDARD SEPARATION BETWEEN TWO ACR ...  ACR Y CLIMBING TO FL210 WAS STOPPED AT 160 FOR...\n",
       "7    Human Factors  ACR LTT LANDED AT THE WRONG ARPT; DESTINATION ...  SOME TIME HAD PASSED AFTER WE HAD PASSED THE R...\n",
       "8    Human Factors  LESS THAN STANDARD SEPARATION BETWEEN FLT OF 2...  ACFT X ON FINAL FOR RWY 30L (FLT OF 2) MISSED ..."
      ]
     },
     "execution_count": 15,
     "metadata": {},
     "output_type": "execute_result"
    }
   ],
   "source": [
    "df_top3.head()"
   ]
  },
  {
   "cell_type": "code",
   "execution_count": 16,
   "metadata": {},
   "outputs": [
    {
     "data": {
      "text/plain": [
       "array(['Human Factors', 'Ambiguous', 'Procedure'], dtype=object)"
      ]
     },
     "execution_count": 16,
     "metadata": {},
     "output_type": "execute_result"
    }
   ],
   "source": [
    "df_top3.Pri_Problem.unique()"
   ]
  },
  {
   "cell_type": "markdown",
   "metadata": {},
   "source": [
    "# MNB"
   ]
  },
  {
   "cell_type": "code",
   "execution_count": 39,
   "metadata": {},
   "outputs": [
    {
     "name": "stdout",
     "output_type": "stream",
     "text": [
      "Accuracy Scores for the Training set : 0.8250689218389091  and Test Set : 0.8140212100139083\n",
      "True\n",
      "[[  467   862   253]\n",
      " [ 1427 17276  1502]\n",
      " [  217    18   986]]\n",
      "\n",
      "Classification Report\n",
      "               precision    recall  f1-score   support\n",
      "\n",
      "    Ambiguous       0.22      0.30      0.25      1582\n",
      "Human Factors       0.95      0.86      0.90     20205\n",
      "    Procedure       0.36      0.81      0.50      1221\n",
      "\n",
      "    micro avg       0.81      0.81      0.81     23008\n",
      "    macro avg       0.51      0.65      0.55     23008\n",
      " weighted avg       0.87      0.81      0.83     23008\n",
      "\n"
     ]
    }
   ],
   "source": [
    "X=vectorizer.fit_transform(df_top3.Synopsis)\n",
    "y=df_top3.Pri_Problem\n",
    "X_train, X_test, y_train, y_test = train_test_split(X, y, test_size=.3, random_state=11)\n",
    "\n",
    "Mul_NB = MultinomialNB()\n",
    "Mul_NB.fit(X_train, y_train)\n",
    "\n",
    "TrainingAccuracy = Mul_NB.score(X_train,y_train)\n",
    "\n",
    "y_pred = Mul_NB.predict(X_test)\n",
    "\n",
    "TestAccuracy = accuracy_score(y_test, y_pred)\n",
    "ttacc = Mul_NB.score(X_test,y_test)\n",
    "\n",
    "print('Accuracy Scores for the Training set : {0}  and Test Set : {1}'.format(TrainingAccuracy, \n",
    "                                                                                         TestAccuracy))\n",
    "print(ttacc==TestAccuracy)\n",
    "\n",
    "from sklearn.metrics import confusion_matrix\n",
    "print(confusion_matrix(y_test, y_pred))\n",
    "\n",
    "print()\n",
    "print(\"Classification Report\")\n",
    "print(classification_report(y_test, y_pred))\n"
   ]
  },
  {
   "cell_type": "markdown",
   "metadata": {},
   "source": [
    "# TFIDF  \n"
   ]
  },
  {
   "cell_type": "code",
   "execution_count": 40,
   "metadata": {},
   "outputs": [
    {
     "name": "stdout",
     "output_type": "stream",
     "text": [
      "Accuracy Scores for the Training set : 0.8832054243349974  and Test Set : 0.8786509040333796\n",
      "True\n",
      "[[    2  1577     6]\n",
      " [    6 20143    34]\n",
      " [    2  1167    71]]\n",
      "\n",
      "Classification Report\n",
      "               precision    recall  f1-score   support\n",
      "\n",
      "    Ambiguous       0.20      0.00      0.00      1585\n",
      "Human Factors       0.88      1.00      0.94     20183\n",
      "    Procedure       0.64      0.06      0.11      1240\n",
      "\n",
      "    micro avg       0.88      0.88      0.88     23008\n",
      "    macro avg       0.57      0.35      0.35     23008\n",
      " weighted avg       0.82      0.88      0.83     23008\n",
      "\n"
     ]
    }
   ],
   "source": [
    "from sklearn.feature_extraction.text import TfidfVectorizer\n",
    "\n",
    "tfidf = TfidfVectorizer(stop_words='english')\n",
    "X = tfidf.fit_transform(df_top3.Synopsis)\n",
    "y=df_top3.Pri_Problem\n",
    "X_train, X_test, y_train, y_test = train_test_split(X, y, test_size=.3, random_state=19)\n",
    "\n",
    "clf = MultinomialNB().fit(X_train, y_train)\n",
    "\n",
    "TrainingAccuracy = clf.score(X_train,y_train)\n",
    "\n",
    "y_pred = clf.predict(X_test)\n",
    "\n",
    "TestAccuracy = accuracy_score(y_test, y_pred)\n",
    "ttacc = clf.score(X_test,y_test)\n",
    "\n",
    "print('Accuracy Scores for the Training set : {0}  and Test Set : {1}'.format(TrainingAccuracy, \n",
    "                                                                                         TestAccuracy))\n",
    "print(ttacc==TestAccuracy)\n",
    "\n",
    "from sklearn.metrics import confusion_matrix\n",
    "print(confusion_matrix(y_test, y_pred))\n",
    "\n",
    "print()\n",
    "print(\"Classification Report\")\n",
    "print(classification_report(y_test, y_pred))"
   ]
  },
  {
   "cell_type": "markdown",
   "metadata": {},
   "source": [
    "# Logistic Regression"
   ]
  },
  {
   "cell_type": "code",
   "execution_count": 41,
   "metadata": {},
   "outputs": [
    {
     "name": "stderr",
     "output_type": "stream",
     "text": [
      "C:\\ProgramData\\Anaconda3\\lib\\site-packages\\sklearn\\linear_model\\logistic.py:433: FutureWarning: Default solver will be changed to 'lbfgs' in 0.22. Specify a solver to silence this warning.\n",
      "  FutureWarning)\n",
      "C:\\ProgramData\\Anaconda3\\lib\\site-packages\\sklearn\\linear_model\\logistic.py:460: FutureWarning: Default multi_class will be changed to 'auto' in 0.22. Specify the multi_class option to silence this warning.\n",
      "  \"this warning.\", FutureWarning)\n"
     ]
    },
    {
     "name": "stdout",
     "output_type": "stream",
     "text": [
      "Accuracy Scores for the Training set : 0.9219506743163699  and Test Set : 0.885778859527121\n",
      "True\n",
      "[[  207  1287    91]\n",
      " [  250 19642   291]\n",
      " [  112   597   531]]\n",
      "\n",
      "Classification Report\n",
      "               precision    recall  f1-score   support\n",
      "\n",
      "    Ambiguous       0.36      0.13      0.19      1585\n",
      "Human Factors       0.91      0.97      0.94     20183\n",
      "    Procedure       0.58      0.43      0.49      1240\n",
      "\n",
      "    micro avg       0.89      0.89      0.89     23008\n",
      "    macro avg       0.62      0.51      0.54     23008\n",
      " weighted avg       0.86      0.89      0.87     23008\n",
      "\n"
     ]
    }
   ],
   "source": [
    "from sklearn.linear_model import LogisticRegression\n",
    "\n",
    "X=vectorizer.fit_transform(df_top3.Synopsis)\n",
    "y=df_top3.Pri_Problem\n",
    "X_train, X_test, y_train, y_test = train_test_split(X, y, test_size=.3, random_state=19)\n",
    "\n",
    "\n",
    "log = LogisticRegression().fit(X_train, y_train)\n",
    "\n",
    "TrainingAccuracy = log.score(X_train,y_train)\n",
    "\n",
    "y_pred = log.predict(X_test)\n",
    "\n",
    "TestAccuracy = accuracy_score(y_test, y_pred)\n",
    "ttacc = log.score(X_test,y_test)\n",
    "\n",
    "print('Accuracy Scores for the Training set : {0}  and Test Set : {1}'.format(TrainingAccuracy, \n",
    "                                                                                         TestAccuracy))\n",
    "print(ttacc==TestAccuracy)\n",
    "\n",
    "from sklearn.metrics import confusion_matrix\n",
    "print(confusion_matrix(y_test, y_pred))\n",
    "\n",
    "print()\n",
    "print(\"Classification Report\")\n",
    "print(classification_report(y_test, y_pred))"
   ]
  },
  {
   "cell_type": "markdown",
   "metadata": {},
   "source": [
    "# Decision Tree"
   ]
  },
  {
   "cell_type": "code",
   "execution_count": 42,
   "metadata": {},
   "outputs": [
    {
     "name": "stdout",
     "output_type": "stream",
     "text": [
      "Accuracy Scores for the Training set : 0.8861113180836003  and Test Set : 0.882519123783032\n",
      "True\n",
      "[[   24  1535    26]\n",
      " [   13 19978   192]\n",
      " [   26   911   303]]\n",
      "\n",
      "Classification Report\n",
      "               precision    recall  f1-score   support\n",
      "\n",
      "    Ambiguous       0.38      0.02      0.03      1585\n",
      "Human Factors       0.89      0.99      0.94     20183\n",
      "    Procedure       0.58      0.24      0.34      1240\n",
      "\n",
      "    micro avg       0.88      0.88      0.88     23008\n",
      "    macro avg       0.62      0.42      0.44     23008\n",
      " weighted avg       0.84      0.88      0.84     23008\n",
      "\n"
     ]
    }
   ],
   "source": [
    "from sklearn.tree import DecisionTreeClassifier\n",
    "\n",
    "X=vectorizer.fit_transform(df_top3.Synopsis)\n",
    "y=df_top3.Pri_Problem\n",
    "X_train, X_test, y_train, y_test = train_test_split(X, y, test_size=.3, random_state=19)\n",
    "\n",
    "clf = DecisionTreeClassifier(criterion=\"entropy\", max_depth=5)\n",
    "clf = clf.fit(X_train,y_train)\n",
    "\n",
    "TrainingAccuracy = clf.score(X_train,y_train)\n",
    "\n",
    "y_pred = clf.predict(X_test)\n",
    "\n",
    "TestAccuracy = accuracy_score(y_test, y_pred)\n",
    "ttacc = clf.score(X_test,y_test)\n",
    "\n",
    "print('Accuracy Scores for the Training set : {0}  and Test Set : {1}'.format(TrainingAccuracy, \n",
    "                                                                                         TestAccuracy))\n",
    "print(ttacc==TestAccuracy)\n",
    "\n",
    "from sklearn.metrics import confusion_matrix\n",
    "print(confusion_matrix(y_test, y_pred))\n",
    "\n",
    "print()\n",
    "print(\"Classification Report\")\n",
    "print(classification_report(y_test, y_pred))"
   ]
  },
  {
   "cell_type": "markdown",
   "metadata": {},
   "source": [
    "# Random Forest"
   ]
  },
  {
   "cell_type": "code",
   "execution_count": 43,
   "metadata": {},
   "outputs": [
    {
     "name": "stdout",
     "output_type": "stream",
     "text": [
      "Accuracy Scores for the Training set : 0.9988637210342002  and Test Set : 0.8858657858136301\n",
      "True\n",
      "[[   33  1549     3]\n",
      " [   16 20105    62]\n",
      " [   17   979   244]]\n",
      "\n",
      "Classification Report\n",
      "               precision    recall  f1-score   support\n",
      "\n",
      "    Ambiguous       0.50      0.02      0.04      1585\n",
      "Human Factors       0.89      1.00      0.94     20183\n",
      "    Procedure       0.79      0.20      0.32      1240\n",
      "\n",
      "    micro avg       0.89      0.89      0.89     23008\n",
      "    macro avg       0.73      0.40      0.43     23008\n",
      " weighted avg       0.86      0.89      0.84     23008\n",
      "\n"
     ]
    }
   ],
   "source": [
    "from sklearn.ensemble import RandomForestClassifier\n",
    "\n",
    "X=vectorizer.fit_transform(df_top3.Synopsis)\n",
    "y=df_top3.Pri_Problem\n",
    "X_train, X_test, y_train, y_test = train_test_split(X, y, test_size=.3, random_state=19)\n",
    "\n",
    "clf=RandomForestClassifier(n_estimators=100)\n",
    "clf.fit(X_train,y_train)\n",
    "\n",
    "TrainingAccuracy = clf.score(X_train,y_train)\n",
    "\n",
    "y_pred = clf.predict(X_test)\n",
    "\n",
    "TestAccuracy = accuracy_score(y_test, y_pred)\n",
    "ttacc = clf.score(X_test,y_test)\n",
    "\n",
    "print('Accuracy Scores for the Training set : {0}  and Test Set : {1}'.format(TrainingAccuracy, \n",
    "                                                                                         TestAccuracy))\n",
    "print(ttacc==TestAccuracy)\n",
    "\n",
    "from sklearn.metrics import confusion_matrix\n",
    "print(confusion_matrix(y_test, y_pred))\n",
    "\n",
    "print()\n",
    "print(\"Classification Report\")\n",
    "print(classification_report(y_test, y_pred))"
   ]
  },
  {
   "cell_type": "markdown",
   "metadata": {},
   "source": [
    "# Tuning with Random forest"
   ]
  },
  {
   "cell_type": "code",
   "execution_count": 34,
   "metadata": {},
   "outputs": [
    {
     "name": "stderr",
     "output_type": "stream",
     "text": [
      "C:\\ProgramData\\Anaconda3\\lib\\site-packages\\sklearn\\model_selection\\_split.py:2053: FutureWarning: You should specify a value for 'cv' instead of relying on the default value. The default value will change from 3 to 5 in version 0.22.\n",
      "  warnings.warn(CV_WARNING, FutureWarning)\n"
     ]
    },
    {
     "name": "stdout",
     "output_type": "stream",
     "text": [
      "Best score: 0.885\n",
      "Best parameters set:\n",
      "\trfc__class_weight: None\n",
      "\trfc__max_depth: None\n",
      "\trfc__max_features: 'sqrt'\n",
      "\trfc__n_estimators: 200\n",
      "\tvect__ngram_range: (1, 1)\n",
      "Accuracy on training data: 0.998864\n",
      "Accuracy on test data:     0.883736\n",
      "[[   26  1557     2]\n",
      " [   11 20128    44]\n",
      " [   15  1046   179]]\n",
      "\n",
      "Classification Report\n",
      "               precision    recall  f1-score   support\n",
      "\n",
      "    Ambiguous       0.50      0.02      0.03      1585\n",
      "Human Factors       0.89      1.00      0.94     20183\n",
      "    Procedure       0.80      0.14      0.24      1240\n",
      "\n",
      "    micro avg       0.88      0.88      0.88     23008\n",
      "    macro avg       0.73      0.39      0.40     23008\n",
      " weighted avg       0.85      0.88      0.84     23008\n",
      "\n"
     ]
    }
   ],
   "source": [
    "from sklearn.pipeline import Pipeline\n",
    "from sklearn.ensemble  import RandomForestClassifier\n",
    "from sklearn.model_selection import GridSearchCV\n",
    "\n",
    "def evaluate(grid_search, clf, Xtrain, Xtest, ytrain, ytest):\n",
    "    print(\"Best score: %0.3f\" % grid_search.best_score_)\n",
    "    print(\"Best parameters set:\")\n",
    "    best_parameters = grid_search.best_estimator_.get_params()\n",
    "    for param_name in sorted(parameters.keys()):\n",
    "        print(\"\\t%s: %r\" % (param_name, best_parameters[param_name]))\n",
    "\n",
    "    training_accuracy = clf.score(Xtrain, ytrain)\n",
    "    test_accuracy = clf.score(Xtest, ytest)\n",
    "    print(\"Accuracy on training data: {:2f}\".format(training_accuracy))\n",
    "    print(\"Accuracy on test data:     {:2f}\".format(test_accuracy))\n",
    "\n",
    "    from sklearn.metrics import confusion_matrix\n",
    "    print(confusion_matrix(ytest, clf.predict(Xtest)))\n",
    "    print()\n",
    "    print(\"Classification Report\")\n",
    "    print(classification_report(ytest, clf.predict(Xtest)))\n",
    "\n",
    "pipeline = Pipeline([\n",
    "    ('vect', CountVectorizer()),\n",
    "    #('gbm', GradientBoostingClassifier()),\n",
    "    ('rfc', RandomForestClassifier()),\n",
    "])\n",
    "\n",
    "parameters = {\n",
    "    'vect__ngram_range': [(1,1), (1, 2)],\n",
    "    #'gbm__n_estimators': [100,200,300],\n",
    "    #'gbm__max_depth': [15,30,None],\n",
    "    #'gbm__max_features': ['sqrt','log2'],\n",
    "    'rfc__n_estimators': [100,200,300],\n",
    "    'rfc__max_depth': [15,30,None],\n",
    "    'rfc__max_features': ['sqrt','log2'],\n",
    "    'rfc__class_weight': ['balanced', None]    \n",
    "}\n",
    "\n",
    "grid_search = GridSearchCV(pipeline, parameters, n_jobs=-1)\n",
    "\n",
    "X=df_top3.Synopsis\n",
    "y=df_top3.Pri_Problem\n",
    "X_train, X_test, y_train, y_test = train_test_split(X, y, test_size=.3, random_state=19)\n",
    "\n",
    "clf = grid_search.fit(X_train, y_train)\n",
    "evaluate(grid_search, clf, X_train, X_test, y_train, y_test)"
   ]
  },
  {
   "cell_type": "markdown",
   "metadata": {},
   "source": [
    "# GBM"
   ]
  },
  {
   "cell_type": "code",
   "execution_count": 44,
   "metadata": {},
   "outputs": [
    {
     "name": "stdout",
     "output_type": "stream",
     "text": [
      "Accuracy Scores for the Training set : 0.8949221369495567  and Test Set : 0.8867350486787204\n",
      "True\n",
      "[[   80  1483    22]\n",
      " [   55 19939   189]\n",
      " [   45   812   383]]\n",
      "\n",
      "Classification Report\n",
      "               precision    recall  f1-score   support\n",
      "\n",
      "    Ambiguous       0.44      0.05      0.09      1585\n",
      "Human Factors       0.90      0.99      0.94     20183\n",
      "    Procedure       0.64      0.31      0.42      1240\n",
      "\n",
      "    micro avg       0.89      0.89      0.89     23008\n",
      "    macro avg       0.66      0.45      0.48     23008\n",
      " weighted avg       0.85      0.89      0.85     23008\n",
      "\n"
     ]
    }
   ],
   "source": [
    "from sklearn.ensemble import GradientBoostingClassifier\n",
    "from sklearn.metrics import classification_report, confusion_matrix, roc_curve, auc\n",
    "\n",
    "X=vectorizer.fit_transform(df_top3.Synopsis)\n",
    "y=df_top3.Pri_Problem\n",
    "X_train, X_test, y_train, y_test = train_test_split(X, y, test_size=.3, random_state=19)\n",
    "\n",
    "gb = GradientBoostingClassifier()\n",
    "gb.fit(X_train, y_train)\n",
    "    \n",
    "TrainingAccuracy = gb.score(X_train,y_train)\n",
    "\n",
    "y_pred = gb.predict(X_test)\n",
    "\n",
    "TestAccuracy = accuracy_score(y_test, y_pred)\n",
    "ttacc = gb.score(X_test,y_test)\n",
    "\n",
    "print('Accuracy Scores for the Training set : {0}  and Test Set : {1}'.format(TrainingAccuracy, \n",
    "                                                                                         TestAccuracy))\n",
    "print(ttacc==TestAccuracy)\n",
    "\n",
    "from sklearn.metrics import confusion_matrix\n",
    "print(confusion_matrix(y_test, y_pred))\n",
    "print()\n",
    "print(\"Classification Report\")\n",
    "print(classification_report(y_test, y_pred))"
   ]
  },
  {
   "cell_type": "markdown",
   "metadata": {},
   "source": [
    "# Tuning with GBM"
   ]
  },
  {
   "cell_type": "code",
   "execution_count": 35,
   "metadata": {},
   "outputs": [
    {
     "name": "stderr",
     "output_type": "stream",
     "text": [
      "C:\\ProgramData\\Anaconda3\\lib\\site-packages\\sklearn\\model_selection\\_split.py:2053: FutureWarning: You should specify a value for 'cv' instead of relying on the default value. The default value will change from 3 to 5 in version 0.22.\n",
      "  warnings.warn(CV_WARNING, FutureWarning)\n"
     ]
    },
    {
     "name": "stdout",
     "output_type": "stream",
     "text": [
      "Best score: 0.890\n",
      "Best parameters set:\n",
      "\tgbm__max_depth: 30\n",
      "\tgbm__max_features: 'sqrt'\n",
      "\tgbm__n_estimators: 200\n",
      "\tvect__ngram_range: (1, 2)\n",
      "Accuracy on training data: 0.968873\n",
      "Accuracy on test data:     0.887170\n",
      "[[   81  1474    30]\n",
      " [   51 19960   172]\n",
      " [   39   830   371]]\n",
      "\n",
      "Classification Report\n",
      "               precision    recall  f1-score   support\n",
      "\n",
      "    Ambiguous       0.47      0.05      0.09      1585\n",
      "Human Factors       0.90      0.99      0.94     20183\n",
      "    Procedure       0.65      0.30      0.41      1240\n",
      "\n",
      "    micro avg       0.89      0.89      0.89     23008\n",
      "    macro avg       0.67      0.45      0.48     23008\n",
      " weighted avg       0.85      0.89      0.85     23008\n",
      "\n"
     ]
    }
   ],
   "source": [
    "from sklearn.pipeline import Pipeline\n",
    "from sklearn.ensemble  import RandomForestClassifier\n",
    "from sklearn.model_selection import GridSearchCV\n",
    "\n",
    "def evaluate(grid_search, clf, Xtrain, Xtest, ytrain, ytest):\n",
    "    print(\"Best score: %0.3f\" % grid_search.best_score_)\n",
    "    print(\"Best parameters set:\")\n",
    "    best_parameters = grid_search.best_estimator_.get_params()\n",
    "    for param_name in sorted(parameters.keys()):\n",
    "        print(\"\\t%s: %r\" % (param_name, best_parameters[param_name]))\n",
    "\n",
    "    training_accuracy = clf.score(Xtrain, ytrain)\n",
    "    test_accuracy = clf.score(Xtest, ytest)\n",
    "    print(\"Accuracy on training data: {:2f}\".format(training_accuracy))\n",
    "    print(\"Accuracy on test data:     {:2f}\".format(test_accuracy))\n",
    "\n",
    "    from sklearn.metrics import confusion_matrix\n",
    "    print(confusion_matrix(ytest, clf.predict(Xtest)))\n",
    "    print()\n",
    "    print(\"Classification Report\")\n",
    "    print(classification_report(ytest, clf.predict(Xtest)))\n",
    "\n",
    "pipeline = Pipeline([\n",
    "    ('vect', CountVectorizer()),\n",
    "    ('gbm', GradientBoostingClassifier()),\n",
    "    #('rfc', RandomForestClassifier()),\n",
    "])\n",
    "\n",
    "parameters = {\n",
    "    'vect__ngram_range': [(1,1), (1, 2)],\n",
    "    'gbm__n_estimators': [100,200,300],\n",
    "    'gbm__max_depth': [15,30,None],\n",
    "    'gbm__max_features': ['sqrt','log2'],\n",
    "    #'rfc__n_estimators': [100,200,300],\n",
    "    #'rfc__max_depth': [15,30,None],\n",
    "    #'rfc__max_features': ['sqrt','log2'],\n",
    "    #'rfc__class_weight': ['balanced', None]    \n",
    "}\n",
    "\n",
    "grid_search = GridSearchCV(pipeline, parameters, n_jobs=-1)\n",
    "\n",
    "X=df_top3.Synopsis\n",
    "y=df_top3.Pri_Problem\n",
    "X_train, X_test, y_train, y_test = train_test_split(X, y, test_size=.3, random_state=19)\n",
    "\n",
    "clf = grid_search.fit(X_train, y_train)\n",
    "evaluate(grid_search, clf, X_train, X_test, y_train, y_test)"
   ]
  },
  {
   "cell_type": "markdown",
   "metadata": {},
   "source": [
    "# Top 6 Classification"
   ]
  },
  {
   "cell_type": "code",
   "execution_count": 32,
   "metadata": {},
   "outputs": [],
   "source": [
    "top6=['Human Factors', 'Ambiguous','Procedure','Weather', 'Company Policy', 'Aircraft']\n",
    "df_top6=df[df.Pri_Problem.isin(top6)]"
   ]
  },
  {
   "cell_type": "markdown",
   "metadata": {},
   "source": [
    "# Random Forest Top 6"
   ]
  },
  {
   "cell_type": "code",
   "execution_count": 45,
   "metadata": {},
   "outputs": [
    {
     "name": "stdout",
     "output_type": "stream",
     "text": [
      "Accuracy Scores for the Training set : 0.9980547070969064  and Test Set : 0.8213887561713649\n",
      "True\n",
      "[[   13     1     0   411     7     2]\n",
      " [    2    34     3  1523     3     7]\n",
      " [    0     0    59   722    19     1]\n",
      " [   16    19    10 20020    44    47]\n",
      " [    0    15     1   968   264     1]\n",
      " [    1     0     1   642    20   240]]\n",
      "\n",
      "Classification Report\n",
      "                precision    recall  f1-score   support\n",
      "\n",
      "      Aircraft       0.41      0.03      0.06       434\n",
      "     Ambiguous       0.49      0.02      0.04      1572\n",
      "Company Policy       0.80      0.07      0.13       801\n",
      " Human Factors       0.82      0.99      0.90     20156\n",
      "     Procedure       0.74      0.21      0.33      1249\n",
      "       Weather       0.81      0.27      0.40       904\n",
      "\n",
      "     micro avg       0.82      0.82      0.82     25116\n",
      "     macro avg       0.68      0.27      0.31     25116\n",
      "  weighted avg       0.79      0.82      0.76     25116\n",
      "\n"
     ]
    }
   ],
   "source": [
    "from sklearn.ensemble import RandomForestClassifier\n",
    "\n",
    "X=vectorizer.fit_transform(df_top6.Synopsis)\n",
    "y=df_top6.Pri_Problem\n",
    "X_train, X_test, y_train, y_test = train_test_split(X, y, test_size=.3, random_state=19)\n",
    "\n",
    "clf=RandomForestClassifier(n_estimators=100)\n",
    "clf.fit(X_train,y_train)\n",
    "\n",
    "TrainingAccuracy = clf.score(X_train,y_train)\n",
    "\n",
    "y_pred = clf.predict(X_test)\n",
    "\n",
    "TestAccuracy = accuracy_score(y_test, y_pred)\n",
    "ttacc = clf.score(X_test,y_test)\n",
    "\n",
    "print('Accuracy Scores for the Training set : {0}  and Test Set : {1}'.format(TrainingAccuracy, \n",
    "                                                                                         TestAccuracy))\n",
    "print(ttacc==TestAccuracy)\n",
    "\n",
    "from sklearn.metrics import confusion_matrix\n",
    "print(confusion_matrix(y_test, y_pred))\n",
    "\n",
    "print()\n",
    "print(\"Classification Report\")\n",
    "print(classification_report(y_test, y_pred))"
   ]
  },
  {
   "cell_type": "markdown",
   "metadata": {},
   "source": [
    "# GBM Top 6 "
   ]
  },
  {
   "cell_type": "code",
   "execution_count": 33,
   "metadata": {},
   "outputs": [
    {
     "name": "stdout",
     "output_type": "stream",
     "text": [
      "Accuracy Scores for the Training set : 0.8385406890432231  and Test Set : 0.8219461697722568\n",
      "True\n",
      "[[   19     2     2   393    14     4]\n",
      " [    1    54    31  1423    28    35]\n",
      " [    3     4   107   656    28     3]\n",
      " [   19    34    51 19794   161    97]\n",
      " [    1    29    18   829   366     6]\n",
      " [    3     1     3   560    33   304]]\n",
      "\n",
      "Classification Report\n",
      "                precision    recall  f1-score   support\n",
      "\n",
      "      Aircraft       0.41      0.04      0.08       434\n",
      "     Ambiguous       0.44      0.03      0.06      1572\n",
      "Company Policy       0.50      0.13      0.21       801\n",
      " Human Factors       0.84      0.98      0.90     20156\n",
      "     Procedure       0.58      0.29      0.39      1249\n",
      "       Weather       0.68      0.34      0.45       904\n",
      "\n",
      "     micro avg       0.82      0.82      0.82     25116\n",
      "     macro avg       0.57      0.30      0.35     25116\n",
      "  weighted avg       0.78      0.82      0.77     25116\n",
      "\n"
     ]
    }
   ],
   "source": [
    "from sklearn.ensemble import GradientBoostingClassifier\n",
    "from sklearn.metrics import classification_report, confusion_matrix, roc_curve, auc\n",
    "\n",
    "X=vectorizer.fit_transform(df_top6.Synopsis)\n",
    "y=df_top6.Pri_Problem\n",
    "X_train, X_test, y_train, y_test = train_test_split(X, y, test_size=.3, random_state=19)\n",
    "\n",
    "gb = GradientBoostingClassifier()\n",
    "gb.fit(X_train, y_train)\n",
    "    \n",
    "TrainingAccuracy = gb.score(X_train,y_train)\n",
    "\n",
    "y_pred = gb.predict(X_test)\n",
    "\n",
    "TestAccuracy = accuracy_score(y_test, y_pred)\n",
    "ttacc = gb.score(X_test,y_test)\n",
    "\n",
    "print('Accuracy Scores for the Training set : {0}  and Test Set : {1}'.format(TrainingAccuracy, \n",
    "                                                                                         TestAccuracy))\n",
    "print(ttacc==TestAccuracy)\n",
    "\n",
    "from sklearn.metrics import confusion_matrix\n",
    "print(confusion_matrix(y_test, y_pred))\n",
    "print()\n",
    "print(\"Classification Report\")\n",
    "print(classification_report(y_test, y_pred))"
   ]
  },
  {
   "cell_type": "code",
   "execution_count": null,
   "metadata": {},
   "outputs": [],
   "source": []
  }
 ],
 "metadata": {
  "kernelspec": {
   "display_name": "Python 3",
   "language": "python",
   "name": "python3"
  },
  "language_info": {
   "codemirror_mode": {
    "name": "ipython",
    "version": 3
   },
   "file_extension": ".py",
   "mimetype": "text/x-python",
   "name": "python",
   "nbconvert_exporter": "python",
   "pygments_lexer": "ipython3",
   "version": "3.7.1"
  }
 },
 "nbformat": 4,
 "nbformat_minor": 2
}
